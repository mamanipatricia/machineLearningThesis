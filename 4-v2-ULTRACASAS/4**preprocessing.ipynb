{
 "cells": [
  {
   "cell_type": "markdown",
   "metadata": {},
   "source": [
    "# PRE-PROCESSING"
   ]
  },
  {
   "cell_type": "code",
   "execution_count": 130,
   "metadata": {},
   "outputs": [],
   "source": [
    "# importando las librerias\n",
    "import numpy as np\n",
    "import pandas as pd\n",
    "import matplotlib.pyplot as plt # los graficos, el odulo pyplot\n",
    "import seaborn as sb   # es una sobrecapa de matplotlib, permite hacer graficos estadisticos\n",
    "%matplotlib inline "
   ]
  },
  {
   "cell_type": "code",
   "execution_count": 131,
   "metadata": {},
   "outputs": [],
   "source": [
    "XC = pd.read_csv('./XC.csv')\n",
    "XD = pd.read_csv('./XD.csv')"
   ]
  },
  {
   "cell_type": "code",
   "execution_count": 132,
   "metadata": {},
   "outputs": [],
   "source": [
    "# XC.dtypes\n",
    "# XD.dtypes"
   ]
  },
  {
   "cell_type": "markdown",
   "metadata": {},
   "source": [
    "## One hot encoding"
   ]
  },
  {
   "cell_type": "code",
   "execution_count": 133,
   "metadata": {},
   "outputs": [],
   "source": [
    "XC = pd.get_dummies(XC, prefix_sep=\"__\",columns=['riesgo'])\n",
    "XD = pd.get_dummies(XD, prefix_sep=\"__\",columns=['riesgo'])"
   ]
  },
  {
   "cell_type": "code",
   "execution_count": 134,
   "metadata": {},
   "outputs": [],
   "source": [
    "# XD = pd.get_dummies(XD, prefix_sep=\"__\",columns=['type_offer'])\n",
    "# XC = pd.get_dummies(XC, prefix_sep=\"__\",columns=['type_offer'])"
   ]
  },
  {
   "cell_type": "code",
   "execution_count": 135,
   "metadata": {},
   "outputs": [
    {
     "data": {
      "text/html": [
       "<div>\n",
       "<style scoped>\n",
       "    .dataframe tbody tr th:only-of-type {\n",
       "        vertical-align: middle;\n",
       "    }\n",
       "\n",
       "    .dataframe tbody tr th {\n",
       "        vertical-align: top;\n",
       "    }\n",
       "\n",
       "    .dataframe thead th {\n",
       "        text-align: right;\n",
       "    }\n",
       "</style>\n",
       "<table border=\"1\" class=\"dataframe\">\n",
       "  <thead>\n",
       "    <tr style=\"text-align: right;\">\n",
       "      <th></th>\n",
       "      <th>amoblado</th>\n",
       "      <th>bathroom</th>\n",
       "      <th>baulera</th>\n",
       "      <th>bedroom</th>\n",
       "      <th>dimension_built</th>\n",
       "      <th>dimension_ground</th>\n",
       "      <th>elevator</th>\n",
       "      <th>garage</th>\n",
       "      <th>id_neighborhood</th>\n",
       "      <th>latitud</th>\n",
       "      <th>longitud</th>\n",
       "      <th>neighborhood</th>\n",
       "      <th>price</th>\n",
       "      <th>status</th>\n",
       "      <th>type_offer</th>\n",
       "      <th>year_built</th>\n",
       "      <th>riesgo__alto</th>\n",
       "      <th>riesgo__bajo</th>\n",
       "      <th>riesgo__moderado</th>\n",
       "      <th>riesgo__muy bajo</th>\n",
       "    </tr>\n",
       "  </thead>\n",
       "  <tbody>\n",
       "    <tr>\n",
       "      <th>616</th>\n",
       "      <td>0</td>\n",
       "      <td>3.0</td>\n",
       "      <td>0</td>\n",
       "      <td>2.0</td>\n",
       "      <td>92</td>\n",
       "      <td>53</td>\n",
       "      <td>0</td>\n",
       "      <td>0</td>\n",
       "      <td>35</td>\n",
       "      <td>-16.542452</td>\n",
       "      <td>-68.060089</td>\n",
       "      <td>Cota Cota</td>\n",
       "      <td>110900.0</td>\n",
       "      <td>2</td>\n",
       "      <td>Venta</td>\n",
       "      <td>NaN</td>\n",
       "      <td>0</td>\n",
       "      <td>0</td>\n",
       "      <td>1</td>\n",
       "      <td>0</td>\n",
       "    </tr>\n",
       "    <tr>\n",
       "      <th>472</th>\n",
       "      <td>0</td>\n",
       "      <td>2.0</td>\n",
       "      <td>0</td>\n",
       "      <td>3.0</td>\n",
       "      <td>62</td>\n",
       "      <td>0</td>\n",
       "      <td>0</td>\n",
       "      <td>0</td>\n",
       "      <td>29</td>\n",
       "      <td>-16.523178</td>\n",
       "      <td>-68.059349</td>\n",
       "      <td>Achumani</td>\n",
       "      <td>57000.0</td>\n",
       "      <td>2</td>\n",
       "      <td>Venta</td>\n",
       "      <td>NaN</td>\n",
       "      <td>1</td>\n",
       "      <td>0</td>\n",
       "      <td>0</td>\n",
       "      <td>0</td>\n",
       "    </tr>\n",
       "  </tbody>\n",
       "</table>\n",
       "</div>"
      ],
      "text/plain": [
       "     amoblado  bathroom  baulera  bedroom  dimension_built  dimension_ground  \\\n",
       "616         0       3.0        0      2.0               92                53   \n",
       "472         0       2.0        0      3.0               62                 0   \n",
       "\n",
       "     elevator  garage  id_neighborhood    latitud   longitud neighborhood  \\\n",
       "616         0       0               35 -16.542452 -68.060089    Cota Cota   \n",
       "472         0       0               29 -16.523178 -68.059349     Achumani   \n",
       "\n",
       "        price  status type_offer  year_built  riesgo__alto  riesgo__bajo  \\\n",
       "616  110900.0       2      Venta         NaN             0             0   \n",
       "472   57000.0       2      Venta         NaN             1             0   \n",
       "\n",
       "     riesgo__moderado  riesgo__muy bajo  \n",
       "616                 1                 0  \n",
       "472                 0                 0  "
      ]
     },
     "execution_count": 135,
     "metadata": {},
     "output_type": "execute_result"
    }
   ],
   "source": [
    "XD.sample(2)\n",
    "# XC.sample(2)"
   ]
  },
  {
   "cell_type": "code",
   "execution_count": 136,
   "metadata": {},
   "outputs": [],
   "source": [
    "# XC[XC['dimension_built'] == 0XC['dimension_ground'] == 0]\n",
    "# XC[XC['dimension_ground']==0]"
   ]
  },
  {
   "cell_type": "code",
   "execution_count": 137,
   "metadata": {},
   "outputs": [],
   "source": [
    "def getIdNeighborhoodHouses(n):\n",
    "    diccNeighborhoods = {'Koani': 1, 'Cota Cota': 2, 'Aranjuez': 3, 'Irpavi': 4, 'Achumani': 5, 'Calacoto': 6, 'San Pedro': 7, 'Pampahasi': 8, 'Bolognia': 9, 'Sopocachi': 10, 'Alto Irpavi': 11, 'Alto Obrajes': 12, 'Mecapaca': 13, 'Miraflores': 14, 'Chasquipampa': 15, 'Auquisamaña': 16, 'La Florida': 17, 'Obrajes': 18, 'Seguencoma': 19, 'Los Pinos': 20, 'Mallasilla': 21, 'San Miguel': 22, 'Ovejuyo': 23, 'Bella Vista': 24, 'Tembladerani': 25, 'San Jorge': 26, 'Centro': 27, 'Villa San Antonio': 28, 'Villa Fatima': 29, 'Mallasa': 30, 'San Alberto': 31, 'El Pedregal': 32, 'Pura Pura': 33, 'El Tejar': 34}\n",
    "    for key, value in diccNeighborhoods.items():\n",
    "        if key.lower().strip() == n.lower().strip():\n",
    "            return value\n",
    "    return 0"
   ]
  },
  {
   "cell_type": "code",
   "execution_count": 138,
   "metadata": {},
   "outputs": [],
   "source": [
    "def getIdNeighborhoodApartment(n):\n",
    "    diccNeighborhoods = {'Achumani': 1, 'Alto Irpavi': 2, 'Chasquipampa': 3, 'Calacoto': 4, 'San Jorge': 5, 'Auquisamaña': 6, 'Obrajes': 7, 'Irpavi': 8, 'Los Pinos': 9, 'Cota Cota': 10, 'El Pedregal': 11, 'Bella Vista': 12, 'Sopocachi': 13, 'La Florida': 14, 'Llojeta': 15, 'Miraflores': 16, 'San Miguel': 17, 'Centro': 18, 'Mallasa': 19, 'Bolognia': 20, 'Mallasilla': 21, 'Seguencoma': 22, 'Villa Fatima': 23, 'San Pedro': 24, 'Koani': 25, 'Villa Copacabana': 26, 'Villa San Antonio': 27, 'Alto Obrajes': 28, 'El Tejar': 29}\n",
    "    for key, value in diccNeighborhoods.items():\n",
    "        if key.lower().strip() == n.lower().strip():\n",
    "            return value\n",
    "    return 0"
   ]
  },
  {
   "cell_type": "code",
   "execution_count": 139,
   "metadata": {},
   "outputs": [],
   "source": [
    "XC['neighborhood_encoded'] = XC.apply (lambda row: getIdNeighborhoodHouses(row['neighborhood']), axis=1)\n",
    "XD['neighborhood_encoded'] = XD.apply (lambda row: getIdNeighborhoodApartment(row['neighborhood']), axis=1)"
   ]
  },
  {
   "cell_type": "code",
   "execution_count": null,
   "metadata": {},
   "outputs": [],
   "source": []
  },
  {
   "cell_type": "code",
   "execution_count": 140,
   "metadata": {},
   "outputs": [],
   "source": [
    "# XC = XC.drop(['neighborhood','type_offer'], axis=1)\n",
    "# XD = XD.drop(['neighborhood','type_offer'], axis=1)\n",
    "XC = XC.drop(['id_neighborhood','neighborhood','type_offer'], axis=1)\n",
    "XD = XD.drop(['id_neighborhood','neighborhood','type_offer'], axis=1)"
   ]
  },
  {
   "cell_type": "code",
   "execution_count": 141,
   "metadata": {},
   "outputs": [
    {
     "data": {
      "text/html": [
       "<div>\n",
       "<style scoped>\n",
       "    .dataframe tbody tr th:only-of-type {\n",
       "        vertical-align: middle;\n",
       "    }\n",
       "\n",
       "    .dataframe tbody tr th {\n",
       "        vertical-align: top;\n",
       "    }\n",
       "\n",
       "    .dataframe thead th {\n",
       "        text-align: right;\n",
       "    }\n",
       "</style>\n",
       "<table border=\"1\" class=\"dataframe\">\n",
       "  <thead>\n",
       "    <tr style=\"text-align: right;\">\n",
       "      <th></th>\n",
       "      <th>amoblado</th>\n",
       "      <th>bathroom</th>\n",
       "      <th>baulera</th>\n",
       "      <th>bedroom</th>\n",
       "      <th>dimension_built</th>\n",
       "      <th>dimension_ground</th>\n",
       "      <th>garage</th>\n",
       "      <th>latitud</th>\n",
       "      <th>longitud</th>\n",
       "      <th>price</th>\n",
       "      <th>status</th>\n",
       "      <th>year_built</th>\n",
       "      <th>riesgo__alto</th>\n",
       "      <th>riesgo__bajo</th>\n",
       "      <th>riesgo__moderado</th>\n",
       "      <th>riesgo__muy bajo</th>\n",
       "      <th>neighborhood_encoded</th>\n",
       "    </tr>\n",
       "  </thead>\n",
       "  <tbody>\n",
       "    <tr>\n",
       "      <th>0</th>\n",
       "      <td>0</td>\n",
       "      <td>4.0</td>\n",
       "      <td>0</td>\n",
       "      <td>4.0</td>\n",
       "      <td>286</td>\n",
       "      <td>261</td>\n",
       "      <td>2</td>\n",
       "      <td>-16.532234</td>\n",
       "      <td>-68.079918</td>\n",
       "      <td>250000.0</td>\n",
       "      <td>2</td>\n",
       "      <td>NaN</td>\n",
       "      <td>0</td>\n",
       "      <td>1</td>\n",
       "      <td>0</td>\n",
       "      <td>0</td>\n",
       "      <td>1</td>\n",
       "    </tr>\n",
       "    <tr>\n",
       "      <th>1</th>\n",
       "      <td>0</td>\n",
       "      <td>3.0</td>\n",
       "      <td>0</td>\n",
       "      <td>4.0</td>\n",
       "      <td>225</td>\n",
       "      <td>225</td>\n",
       "      <td>0</td>\n",
       "      <td>-16.538757</td>\n",
       "      <td>-68.057556</td>\n",
       "      <td>250000.0</td>\n",
       "      <td>2</td>\n",
       "      <td>NaN</td>\n",
       "      <td>0</td>\n",
       "      <td>0</td>\n",
       "      <td>1</td>\n",
       "      <td>0</td>\n",
       "      <td>2</td>\n",
       "    </tr>\n",
       "  </tbody>\n",
       "</table>\n",
       "</div>"
      ],
      "text/plain": [
       "   amoblado  bathroom  baulera  bedroom  dimension_built  dimension_ground  \\\n",
       "0         0       4.0        0      4.0              286               261   \n",
       "1         0       3.0        0      4.0              225               225   \n",
       "\n",
       "   garage    latitud   longitud     price  status  year_built  riesgo__alto  \\\n",
       "0       2 -16.532234 -68.079918  250000.0       2         NaN             0   \n",
       "1       0 -16.538757 -68.057556  250000.0       2         NaN             0   \n",
       "\n",
       "   riesgo__bajo  riesgo__moderado  riesgo__muy bajo  neighborhood_encoded  \n",
       "0             1                 0                 0                     1  \n",
       "1             0                 1                 0                     2  "
      ]
     },
     "execution_count": 141,
     "metadata": {},
     "output_type": "execute_result"
    }
   ],
   "source": [
    "XD.head(2)\n",
    "XC.head(2)"
   ]
  },
  {
   "cell_type": "code",
   "execution_count": 142,
   "metadata": {},
   "outputs": [],
   "source": [
    "# XC = XC.drop(XC[XC.duplicated(['amoblado','bathroom','baulera','bedroom',\n",
    "#                                'dimension_built','dimension_ground','garage',\n",
    "#                                'id_neighborhood','latitud','longitud','price',\n",
    "#                                'status','year_built'], keep=\"first\")].index)\n",
    "XC = XC.drop(XC[XC.duplicated(['amoblado','bathroom','baulera','bedroom',\n",
    "                               'dimension_built','dimension_ground','garage',\n",
    "                               'neighborhood_encoded','latitud','longitud','price',\n",
    "                               'status','year_built'], keep=\"first\")].index)"
   ]
  },
  {
   "cell_type": "code",
   "execution_count": 143,
   "metadata": {},
   "outputs": [],
   "source": [
    "# XD = XD.drop(XD[XD.duplicated(['amoblado','bathroom','baulera','bedroom',\n",
    "#                                'dimension_built','dimension_ground','garage',\n",
    "#                                'id_neighborhood','latitud','longitud','price',\n",
    "#                                'status','year_built'], keep=\"first\")].index)\n",
    "XD = XD.drop(XD[XD.duplicated(['amoblado','bathroom','baulera','bedroom',\n",
    "                               'dimension_built','dimension_ground','garage',\n",
    "                               'neighborhood_encoded','latitud','longitud','price',\n",
    "                               'status','year_built'], keep=\"first\")].index)"
   ]
  },
  {
   "cell_type": "code",
   "execution_count": 144,
   "metadata": {},
   "outputs": [],
   "source": [
    "XC.to_csv('./pre/XC.csv', index=False)"
   ]
  },
  {
   "cell_type": "code",
   "execution_count": 145,
   "metadata": {},
   "outputs": [],
   "source": [
    "XD.to_csv('./pre/XD.csv', index=False)"
   ]
  },
  {
   "cell_type": "code",
   "execution_count": null,
   "metadata": {},
   "outputs": [],
   "source": []
  },
  {
   "cell_type": "code",
   "execution_count": null,
   "metadata": {},
   "outputs": [],
   "source": []
  }
 ],
 "metadata": {
  "kernelspec": {
   "display_name": "Python 3",
   "language": "python",
   "name": "python3"
  },
  "language_info": {
   "codemirror_mode": {
    "name": "ipython",
    "version": 3
   },
   "file_extension": ".py",
   "mimetype": "text/x-python",
   "name": "python",
   "nbconvert_exporter": "python",
   "pygments_lexer": "ipython3",
   "version": "3.7.1"
  }
 },
 "nbformat": 4,
 "nbformat_minor": 2
}
